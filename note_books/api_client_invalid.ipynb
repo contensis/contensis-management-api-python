{
 "cells": [
  {
   "cell_type": "markdown",
   "metadata": {},
   "source": [
    "# Try out an invalid token"
   ]
  },
  {
   "cell_type": "code",
   "execution_count": 4,
   "metadata": {},
   "outputs": [
    {
     "name": "stdout",
     "output_type": "stream",
     "text": [
      "status_code=401 detail={'message': 'Authorization has been denied for this request.'}\n"
     ]
    }
   ],
   "source": [
    "from contensis_management import api_client\n",
    "from tests.helpers.helper_config import env_config\n",
    "\n",
    "alias = env_config.alias\n",
    "client_from_token = api_client.ApiClient.from_token(alias, \"invalid-token\")\n",
    "the_message = client_from_token.projects.check_my_permissions(\n",
    "    project_id=\"website\", resource_type=\"domains\", action=\"view\"\n",
    ")\n",
    "print(the_message)"
   ]
  }
 ],
 "metadata": {
  "kernelspec": {
   "display_name": ".venv",
   "language": "python",
   "name": "python3"
  },
  "language_info": {
   "codemirror_mode": {
    "name": "ipython",
    "version": 3
   },
   "file_extension": ".py",
   "mimetype": "text/x-python",
   "name": "python",
   "nbconvert_exporter": "python",
   "pygments_lexer": "ipython3",
   "version": "3.12.6"
  }
 },
 "nbformat": 4,
 "nbformat_minor": 2
}
